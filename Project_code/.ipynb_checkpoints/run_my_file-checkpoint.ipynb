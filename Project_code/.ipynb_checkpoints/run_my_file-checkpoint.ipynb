{
 "cells": [
  {
   "cell_type": "code",
   "execution_count": null,
   "id": "99f729c4",
   "metadata": {},
   "outputs": [
    {
     "name": "stderr",
     "output_type": "stream",
     "text": [
      " * Running on http://localhost:9002/ (Press CTRL+C to quit)\n",
      "127.0.0.1 - - [24/Nov/2021 18:13:09] \"\u001b[37mGET / HTTP/1.1\u001b[0m\" 200 -\n",
      "127.0.0.1 - - [24/Nov/2021 18:13:09] \"\u001b[32mGET /static//js/custom.js HTTP/1.1\u001b[0m\" 308 -\n",
      "127.0.0.1 - - [24/Nov/2021 18:13:09] \"\u001b[37mGET /static/js/custom.js HTTP/1.1\u001b[0m\" 200 -\n",
      "127.0.0.1 - - [24/Nov/2021 18:13:11] \"\u001b[37mPOST /sub_data HTTP/1.1\u001b[0m\" 200 -\n"
     ]
    },
    {
     "name": "stdout",
     "output_type": "stream",
     "text": [
      "PoliticalCompassMemes\n"
     ]
    }
   ],
   "source": [
    "import pickle\n",
    "import json\n",
    "from flask import Flask, render_template, request\n",
    "from werkzeug.serving import run_simple\n",
    "from time import sleep\n",
    "app = Flask(__name__,static_folder='static',\n",
    "            template_folder='template')\n",
    "@app.route('/')\n",
    "def home():\n",
    "   return render_template('index.html')\n",
    "\n",
    "\n",
    "@app.route('/sub_data',methods = ['POST' , 'GET'])\n",
    "def sub_data():\n",
    "    \n",
    "    if request.method == \"POST\":\n",
    "\n",
    "        req = request.form\n",
    "        print(req['sub'])\n",
    "        \n",
    "    \n",
    "    a_file = open(\"static/sub_dict.pkl\", \"rb\")\n",
    "    output = pickle.load(a_file)\n",
    "    if output['pol_score'][0] > output['pol_score'][1]:\n",
    "        our_prediction = 'Right'\n",
    "    else:\n",
    "        our_prediction = 'Left'\n",
    "        \n",
    "    \n",
    "    #closest_sub\n",
    "    close_sub = []\n",
    "    for key, data in output['closesnt_subs'].items():\n",
    "        temp = []\n",
    "        temp.append(data[\"subname\"])\n",
    "        temp.append(int(data[\"visits\"]))\n",
    "        close_sub.append(temp)\n",
    "    \n",
    "    \n",
    "    return render_template('page2.html',sub_data = output,our_prediction = our_prediction, close_sub = close_sub)\n",
    "\n",
    "@app.route('/user_data/<int:user_id>',methods=['GET', 'POST'])\n",
    "def user_data(user_id):\n",
    "    a_file = open(\"static/user_dict.pkl\", \"rb\")\n",
    "    output = pickle.load(a_file)\n",
    "    user_output = output[user_id]\n",
    "    user_subs_famous = user_output['most_upvoted_subs']\n",
    "    \n",
    "    user_subs_famous_transform = []\n",
    "    for user_sub in user_subs_famous:\n",
    "        temp= []\n",
    "        temp.append(user_sub[0])\n",
    "        temp.append(int(user_sub[1]))\n",
    "        user_subs_famous_transform.append(temp)\n",
    "    \n",
    "    \n",
    "    common_dict = {}\n",
    "    counter = 1\n",
    "    total = output['common_subs']['total'][user_id-1]\n",
    "    for data in output['common_subs'][user_id]:\n",
    "        if counter == user_id:\n",
    "            counter += 1\n",
    "        temp = {}\n",
    "        temp['subs'] = data\n",
    "        temp['percentage'] = round((data/total)*100,2)\n",
    "        common_dict[counter] = temp\n",
    "        counter += 1\n",
    "    \n",
    "    if user_output['user_prediction'][0] > user_output['user_prediction'][1]:\n",
    "        our_prediction = 'Right'\n",
    "    else:\n",
    "        our_prediction = 'Left'\n",
    "    return render_template('user.html',our_prediction = our_prediction, sub_data = user_output, user_activity = user_subs_famous_transform, common_data = common_dict, user_number = str(user_id) )\n",
    "\n",
    "if __name__ == '__main__':\n",
    "   run_simple('localhost', 9002, app)"
   ]
  },
  {
   "cell_type": "code",
   "execution_count": 8,
   "id": "6d2ba76c",
   "metadata": {},
   "outputs": [],
   "source": [
    "a_file = open(\"static/user_dict.pkl\", \"rb\")\n",
    "output = pickle.load(a_file)"
   ]
  },
  {
   "cell_type": "code",
   "execution_count": 9,
   "id": "2bbd5e19",
   "metadata": {},
   "outputs": [
    {
     "data": {
      "text/plain": [
       "[4, 18, 4, 12, 8, 8, 11, 8, 3]"
      ]
     },
     "execution_count": 9,
     "metadata": {},
     "output_type": "execute_result"
    }
   ],
   "source": [
    "output['common_subs'][1]"
   ]
  },
  {
   "cell_type": "code",
   "execution_count": 1,
   "id": "0a805e3c",
   "metadata": {},
   "outputs": [
    {
     "ename": "NameError",
     "evalue": "name 'common' is not defined",
     "output_type": "error",
     "traceback": [
      "\u001b[1;31m---------------------------------------------------------------------------\u001b[0m",
      "\u001b[1;31mNameError\u001b[0m                                 Traceback (most recent call last)",
      "\u001b[1;32mC:\\Users\\ANASSA~1\\AppData\\Local\\Temp/ipykernel_23472/3461530850.py\u001b[0m in \u001b[0;36m<module>\u001b[1;34m\u001b[0m\n\u001b[0;32m      1\u001b[0m \u001b[0muser\u001b[0m \u001b[1;33m=\u001b[0m \u001b[1;36m3\u001b[0m\u001b[1;33m\u001b[0m\u001b[1;33m\u001b[0m\u001b[0m\n\u001b[0;32m      2\u001b[0m \u001b[0mcounter\u001b[0m \u001b[1;33m=\u001b[0m \u001b[1;36m1\u001b[0m\u001b[1;33m\u001b[0m\u001b[1;33m\u001b[0m\u001b[0m\n\u001b[1;32m----> 3\u001b[1;33m \u001b[1;32mfor\u001b[0m \u001b[0mitem\u001b[0m \u001b[1;32min\u001b[0m \u001b[0mcommon\u001b[0m\u001b[1;33m:\u001b[0m\u001b[1;33m\u001b[0m\u001b[1;33m\u001b[0m\u001b[0m\n\u001b[0m\u001b[0;32m      4\u001b[0m     \u001b[1;32mif\u001b[0m \u001b[0mcounter\u001b[0m \u001b[1;33m==\u001b[0m \u001b[0muser\u001b[0m\u001b[1;33m:\u001b[0m\u001b[1;33m\u001b[0m\u001b[1;33m\u001b[0m\u001b[0m\n\u001b[0;32m      5\u001b[0m         \u001b[0mcounter\u001b[0m \u001b[1;33m+=\u001b[0m \u001b[1;36m1\u001b[0m\u001b[1;33m\u001b[0m\u001b[1;33m\u001b[0m\u001b[0m\n",
      "\u001b[1;31mNameError\u001b[0m: name 'common' is not defined"
     ]
    }
   ],
   "source": [
    "user = 3\n",
    "counter = 1\n",
    "for item in common:\n",
    "    if counter == user:\n",
    "        counter += 1\n",
    "    print (counter, item)\n",
    "    counter +=1"
   ]
  },
  {
   "cell_type": "code",
   "execution_count": 1,
   "id": "b14abd95",
   "metadata": {},
   "outputs": [
    {
     "ename": "NameError",
     "evalue": "name 'output' is not defined",
     "output_type": "error",
     "traceback": [
      "\u001b[1;31m---------------------------------------------------------------------------\u001b[0m",
      "\u001b[1;31mNameError\u001b[0m                                 Traceback (most recent call last)",
      "\u001b[1;32mC:\\Users\\ANASSA~1\\AppData\\Local\\Temp/ipykernel_19920/12308534.py\u001b[0m in \u001b[0;36m<module>\u001b[1;34m\u001b[0m\n\u001b[1;32m----> 1\u001b[1;33m \u001b[0muser_output\u001b[0m \u001b[1;33m=\u001b[0m \u001b[0moutput\u001b[0m\u001b[1;33m[\u001b[0m\u001b[1;36m1\u001b[0m\u001b[1;33m]\u001b[0m\u001b[1;33m\u001b[0m\u001b[1;33m\u001b[0m\u001b[0m\n\u001b[0m\u001b[0;32m      2\u001b[0m \u001b[0muser_subs_famous\u001b[0m \u001b[1;33m=\u001b[0m \u001b[0muser_output\u001b[0m\u001b[1;33m[\u001b[0m\u001b[1;34m'most_upvoted_subs'\u001b[0m\u001b[1;33m]\u001b[0m\u001b[1;33m\u001b[0m\u001b[1;33m\u001b[0m\u001b[0m\n",
      "\u001b[1;31mNameError\u001b[0m: name 'output' is not defined"
     ]
    }
   ],
   "source": [
    "user_output = output[1]\n",
    "user_subs_famous = user_output['most_upvoted_subs']"
   ]
  },
  {
   "cell_type": "code",
   "execution_count": 95,
   "id": "c26c908f",
   "metadata": {},
   "outputs": [
    {
     "data": {
      "text/plain": [
       "28397"
      ]
     },
     "execution_count": 95,
     "metadata": {},
     "output_type": "execute_result"
    }
   ],
   "source": [
    "type(user_subs_famous[0][1])"
   ]
  },
  {
   "cell_type": "code",
   "execution_count": 96,
   "id": "c9a9ed91",
   "metadata": {},
   "outputs": [],
   "source": [
    "user_subs_famous_transform = []\n",
    "for user_sub in user_subs_famous:\n",
    "    temp= []\n",
    "    temp.append(user_sub[0])\n",
    "    temp.append(int(user_sub[1]))\n",
    "    user_subs_famous_transform.append(temp)"
   ]
  },
  {
   "cell_type": "code",
   "execution_count": 98,
   "id": "c191d3ec",
   "metadata": {},
   "outputs": [
    {
     "data": {
      "text/plain": [
       "int"
      ]
     },
     "execution_count": 98,
     "metadata": {},
     "output_type": "execute_result"
    }
   ],
   "source": [
    "type(user_subs_famous_transform[0][1])"
   ]
  },
  {
   "cell_type": "code",
   "execution_count": 13,
   "id": "af43eb91",
   "metadata": {},
   "outputs": [],
   "source": [
    " a_file = open(\"static/user_dict.pkl\", \"rb\")\n",
    "output = pickle.load(a_file)\n",
    "user_output = output[1]\n",
    "user_subs_famous = user_output['most_upvoted_subs']\n",
    "\n",
    "user_subs_famous_transform = []\n",
    "for user_sub in user_subs_famous:\n",
    "    temp= []\n",
    "    temp.append(user_sub[0])\n",
    "    temp.append(int(user_sub[1]))\n",
    "    user_subs_famous_transform.append(temp)"
   ]
  },
  {
   "cell_type": "code",
   "execution_count": 19,
   "id": "92ea6671",
   "metadata": {},
   "outputs": [
    {
     "name": "stdout",
     "output_type": "stream",
     "text": [
      "PoliticalCompassMemes ---- 28397\n",
      "LivestreamFail ---- 8089\n",
      "news ---- 7508\n",
      "PublicFreakout ---- 6696\n",
      "BlackPeopleTwitter ---- 3299\n",
      "AskTrumpSupporters ---- 2111\n",
      "deadbydaylight ---- 1875\n",
      "politics ---- 1714\n",
      "LeopardsAteMyFace ---- 1611\n",
      "PoliticalDiscussion ---- 1529\n"
     ]
    }
   ],
   "source": [
    "for data in user_subs_famous_transform:\n",
    "    print(data[0],'----',data[1])"
   ]
  },
  {
   "cell_type": "code",
   "execution_count": 38,
   "id": "53d2d62c",
   "metadata": {},
   "outputs": [
    {
     "data": {
      "text/plain": [
       "[['PoliticalCompassMemes', 28397],\n",
       " ['LivestreamFail', 8089],\n",
       " ['news', 7508],\n",
       " ['PublicFreakout', 6696],\n",
       " ['BlackPeopleTwitter', 3299],\n",
       " ['AskTrumpSupporters', 2111],\n",
       " ['deadbydaylight', 1875],\n",
       " ['politics', 1714],\n",
       " ['LeopardsAteMyFace', 1611],\n",
       " ['PoliticalDiscussion', 1529]]"
      ]
     },
     "execution_count": 38,
     "metadata": {},
     "output_type": "execute_result"
    }
   ],
   "source": [
    "user_subs_famous_transform"
   ]
  },
  {
   "cell_type": "code",
   "execution_count": 140,
   "id": "630deeb5",
   "metadata": {},
   "outputs": [],
   "source": [
    "total = output['common_subs']['total'][user_id-1]"
   ]
  },
  {
   "cell_type": "code",
   "execution_count": 141,
   "id": "5b9cc802",
   "metadata": {},
   "outputs": [
    {
     "data": {
      "text/plain": [
       "68"
      ]
     },
     "execution_count": 141,
     "metadata": {},
     "output_type": "execute_result"
    }
   ],
   "source": [
    "total"
   ]
  },
  {
   "cell_type": "code",
   "execution_count": 29,
   "id": "cf98626a",
   "metadata": {},
   "outputs": [],
   "source": [
    "a_file = open(\"static/sub_dict.pkl\", \"rb\")\n",
    "output = pickle.load(a_file)\n",
    "if output['pol_score'][0] > output['pol_score'][1]:\n",
    "    our_prediction = 'Right'\n",
    "else:\n",
    "    our_prediction = 'Left'\n",
    "\n",
    "\n",
    "#closest_sub\n",
    "close_sub = []\n",
    "for key, data in output['closesnt_subs'].items():\n",
    "    temp = []\n",
    "    temp.append(data[\"subname\"])\n",
    "    temp.append(int(data[\"visits\"]))\n",
    "    close_sub.append(temp)"
   ]
  },
  {
   "cell_type": "code",
   "execution_count": 30,
   "id": "af9f6899",
   "metadata": {},
   "outputs": [
    {
     "data": {
      "text/plain": [
       "[['AskAnAmerican', 493],\n",
       " ['worldbuilding', 358],\n",
       " ['XboxSeriesX', 258],\n",
       " ['AskReddit', 241],\n",
       " ['HistoryMemes', 198],\n",
       " ['panthers', 186],\n",
       " ['dankmemes', 147],\n",
       " ['memes', 141],\n",
       " ['fantasywriters', 119],\n",
       " ['neoliberal', 91]]"
      ]
     },
     "execution_count": 30,
     "metadata": {},
     "output_type": "execute_result"
    }
   ],
   "source": [
    "close_sub"
   ]
  },
  {
   "cell_type": "code",
   "execution_count": 31,
   "id": "f2c70ac4",
   "metadata": {},
   "outputs": [
    {
     "ename": "TypeError",
     "evalue": "'function' object is not subscriptable",
     "output_type": "error",
     "traceback": [
      "\u001b[0;31m---------------------------------------------------------------------------\u001b[0m",
      "\u001b[0;31mTypeError\u001b[0m                                 Traceback (most recent call last)",
      "\u001b[0;32m<ipython-input-31-ae36fed0692e>\u001b[0m in \u001b[0;36m<module>\u001b[0;34m\u001b[0m\n\u001b[0;32m----> 1\u001b[0;31m \u001b[0msub_data\u001b[0m\u001b[0;34m[\u001b[0m\u001b[0;34m'closesnt_subs'\u001b[0m\u001b[0;34m]\u001b[0m\u001b[0;34m\u001b[0m\u001b[0;34m\u001b[0m\u001b[0m\n\u001b[0m",
      "\u001b[0;31mTypeError\u001b[0m: 'function' object is not subscriptable"
     ]
    }
   ],
   "source": [
    "sub_data['closesnt_subs']"
   ]
  },
  {
   "cell_type": "code",
   "execution_count": null,
   "id": "8ffea156",
   "metadata": {},
   "outputs": [],
   "source": []
  }
 ],
 "metadata": {
  "kernelspec": {
   "display_name": "Python 3",
   "language": "python",
   "name": "python3"
  },
  "language_info": {
   "codemirror_mode": {
    "name": "ipython",
    "version": 3
   },
   "file_extension": ".py",
   "mimetype": "text/x-python",
   "name": "python",
   "nbconvert_exporter": "python",
   "pygments_lexer": "ipython3",
   "version": "3.8.8"
  }
 },
 "nbformat": 4,
 "nbformat_minor": 5
}
