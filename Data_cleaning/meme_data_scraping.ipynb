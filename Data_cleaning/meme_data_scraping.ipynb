{
 "cells": [
  {
   "cell_type": "code",
   "execution_count": null,
   "id": "a9b99652",
   "metadata": {},
   "outputs": [],
   "source": [
    "#funny problem not making deep copy and user repetation "
   ]
  },
  {
   "cell_type": "code",
   "execution_count": null,
   "id": "f4f65df6",
   "metadata": {},
   "outputs": [],
   "source": [
    "import praw\n",
    "\n",
    "reddit = praw.Reddit(\n",
    "    client_id=\"\",\n",
    "    client_secret=\"\",\n",
    "    password=\"\",\n",
    "    user_agent=\"\",\n",
    "    username=\"\",\n",
    ")"
   ]
  },
  {
   "cell_type": "code",
   "execution_count": null,
   "id": "5fd85adc",
   "metadata": {},
   "outputs": [],
   "source": [
    "print(reddit.user.me())"
   ]
  },
  {
   "cell_type": "code",
   "execution_count": null,
   "id": "b2de0091",
   "metadata": {},
   "outputs": [],
   "source": [
    "\n",
    "row_list = []\n",
    "user_counter = 1\n",
    "for submission in reddit.subreddit(\"PoliticalCompassMemes\").top(\"year\",limit=None):\n",
    "    count = 0\n",
    "    row_dict = {}\n",
    "    row_dict[\"user\"] = submission.author\n",
    "    row_dict[\"flair_text\"] = submission.author_flair_text\n",
    "    row_list.append(row_dict)\n",
    "    for comment in submission.comments:\n",
    "        row_dict = {}\n",
    "        try:\n",
    "            if comment.author == \"AutoModerator\":\n",
    "                continue\n",
    "            row_dict[\"user\"] = user_counter\n",
    "            user_counter += 1\n",
    "            row_dict[\"flair_text\"] = comment.author_flair_text\n",
    "            row_list.append(row_dict)\n",
    "            count = count + 1\n",
    "            if count == 10 :\n",
    "                break\n",
    "        except:\n",
    "            break\n",
    "df6 = pd.DataFrame(row_list)\n",
    "df6.to_csv('political_comp_meme.csv')"
   ]
  },
  {
   "cell_type": "code",
   "execution_count": null,
   "id": "89196a28",
   "metadata": {},
   "outputs": [],
   "source": []
  },
  {
   "cell_type": "code",
   "execution_count": null,
   "id": "2007b4d2",
   "metadata": {},
   "outputs": [],
   "source": []
  },
  {
   "cell_type": "code",
   "execution_count": null,
   "id": "4b59748b",
   "metadata": {
    "scrolled": true
   },
   "outputs": [],
   "source": [
    "df.head()"
   ]
  },
  {
   "cell_type": "code",
   "execution_count": null,
   "id": "13642da8",
   "metadata": {},
   "outputs": [],
   "source": [
    "df.flair_text.unique()"
   ]
  },
  {
   "cell_type": "code",
   "execution_count": null,
   "id": "0f64e8e9",
   "metadata": {},
   "outputs": [],
   "source": [
    "df_right = df.loc[df['flair_text'] == ':right: - Right']\n",
    "df_left = df.loc[df['flair_text'] == ':left: - Left']"
   ]
  },
  {
   "cell_type": "code",
   "execution_count": null,
   "id": "236a54ef",
   "metadata": {},
   "outputs": [],
   "source": [
    "df_right.head()"
   ]
  },
  {
   "cell_type": "code",
   "execution_count": null,
   "id": "71bb9d7b",
   "metadata": {},
   "outputs": [],
   "source": [
    "df_left.head()"
   ]
  },
  {
   "cell_type": "code",
   "execution_count": null,
   "id": "83edfd7a",
   "metadata": {},
   "outputs": [],
   "source": [
    "sublist = ['worldnews','Economics','environment','energy','law','education','government','news',\n",
    "          'worldpolitics','worldevents','history','PoliticsPDFs','WikiLeaks','SOPA','NewsPorn',\n",
    "          'worldnews2','RepublicOfPolitics','LGBTnews','politics2','economics2','politics',\n",
    "          'uspolitics','AmericanPolitics','canada','AmericanGovernment','ukpolitics','euro',\n",
    "          'Palestine','eupolitics','MiddleEastNews','Israel','india','pakistan','Cascadia',\n",
    "          'iran','wisconsinpolitics','business','Republican','Liberal','Libertarian',\n",
    "          'Anarchism','socialism','progressive','Conservative','americanpirateparty',\n",
    "          'democrats','LibertarianLeft','Liberty','Anarcho_Capitalism','alltheleft',\n",
    "          'neoprogs','voluntarism','labor','blackflag','GreenParty','democracy','IWW',\n",
    "          'PirateParty','Marxism','piratenpartei','Objectivism','LibertarianSocialism',\n",
    "          'peoplesparty','Capitalism','Anarchist','feminisms','republicans','Egalitarianism',\n",
    "          'anarchafeminism','Communist','SocialDemocracy','Postleftanarchism','RadicalFeminism',\n",
    "          'AnarchoPacifism','conservatives','republicanism','Freethought','Foodforthought',\n",
    "          'StateOfTheUnion','moderatepolitics','PoliticalDiscussion','Equality',\n",
    "          'culturalstudies','PoliticalHumor','PropagandaPosters','socialscience',\n",
    "          'PoliticalPhilosophy','media','culture','racism','Corruption','ipr','chomsky',\n",
    "          'propaganda','PeterSchiff','votingtheory','EconPapers','Debate','FoodSovereignty',\n",
    "          'Environmental_Policy','lgbt','MensRights','collapse','OperationGrabAss','HackBloc',\n",
    "          'rpac','Bad_Cop_No_Donut','Anticonsumption','Permaculture','censorship','Feminism',\n",
    "          'Sunlight','privacy','occupywallstreet','resilientcommunities','activism','revolution'\n",
    "          'prisonreform','tsa','electionreform','troubledteens','firstamendment',\n",
    "          'sensiblewashington','Thewarondrugs','union','StrikeAction','YouthRights',\n",
    "          'PhxClassWarCouncil','humanrights','BlackOps','Intelligence','MideastPeace',\n",
    "          'EndlessWar','antiwar','war','peace','afghanistan','Libya','conspiracy','911truth',\n",
    "          'climateskeptics','conspiracyhub','redditorsfor911truth']"
   ]
  },
  {
   "cell_type": "code",
   "execution_count": null,
   "id": "08220fb6",
   "metadata": {},
   "outputs": [],
   "source": [
    "right_users_1500 = df_right[:2000].copy()"
   ]
  },
  {
   "cell_type": "code",
   "execution_count": null,
   "id": "d35a8ef1",
   "metadata": {},
   "outputs": [],
   "source": [
    "right_users_1500.head()"
   ]
  },
  {
   "cell_type": "code",
   "execution_count": null,
   "id": "56a20dcb",
   "metadata": {},
   "outputs": [],
   "source": [
    "right_users_1500['user'].drop_duplicates()"
   ]
  },
  {
   "cell_type": "code",
   "execution_count": null,
   "id": "5f8c1d8a",
   "metadata": {},
   "outputs": [],
   "source": [
    "#maybe use their most recent comment :p"
   ]
  },
  {
   "cell_type": "code",
   "execution_count": null,
   "id": "73a2fbb7",
   "metadata": {},
   "outputs": [],
   "source": [
    "right_users_1500"
   ]
  },
  {
   "cell_type": "code",
   "execution_count": null,
   "id": "935fac4b",
   "metadata": {},
   "outputs": [],
   "source": []
  },
  {
   "cell_type": "code",
   "execution_count": null,
   "id": "dccb2079",
   "metadata": {},
   "outputs": [],
   "source": [
    "row_list = []\n",
    "\n",
    "for name in right_users_1500.user:\n",
    "    commlist = []\n",
    "    try :\n",
    "        for comment in reddit.redditor(name).comments.top(\"all\",limit=None):\n",
    "            row_dict ={}\n",
    "            if comment.subreddit in sublist:\n",
    "                row_dict[\"comment\"] = comment.body\n",
    "                row_dict[\"score\"] = comment.score\n",
    "                row_dict[\"type\"]= 0\n",
    "                row_dict[\"user\"] = name\n",
    "                row_list.append(row_dict)              \n",
    "    except:\n",
    "        pass\n",
    "\n",
    "right_1500_df = pd.DataFrame(row_list)"
   ]
  },
  {
   "cell_type": "code",
   "execution_count": null,
   "id": "47cfa0f2",
   "metadata": {},
   "outputs": [],
   "source": []
  },
  {
   "cell_type": "code",
   "execution_count": null,
   "id": "81132552",
   "metadata": {},
   "outputs": [],
   "source": []
  },
  {
   "cell_type": "code",
   "execution_count": null,
   "id": "5f257003",
   "metadata": {},
   "outputs": [],
   "source": [
    "address "
   ]
  },
  {
   "cell_type": "code",
   "execution_count": null,
   "id": "8201fe76",
   "metadata": {},
   "outputs": [],
   "source": []
  },
  {
   "cell_type": "code",
   "execution_count": null,
   "id": "1a17fdf1",
   "metadata": {},
   "outputs": [],
   "source": [
    "left_users_1500 = df_left[:2000].copy()"
   ]
  },
  {
   "cell_type": "code",
   "execution_count": null,
   "id": "79a96c06",
   "metadata": {},
   "outputs": [],
   "source": [
    "left_users_1500['user'].drop_duplicates()"
   ]
  },
  {
   "cell_type": "code",
   "execution_count": null,
   "id": "fb4f96fa",
   "metadata": {},
   "outputs": [],
   "source": [
    "row_list = []\n",
    "for name in left_users_1500.user:\n",
    "    commlist = []\n",
    "    try :\n",
    "        for comment in reddit.redditor(name).comments.top(\"all\",limit=None):\n",
    "            row_dict ={}\n",
    "            if comment.subreddit in sublist:\n",
    "                row_dict[\"comment\"] = comment.body\n",
    "                row_dict[\"score\"] = comment.score\n",
    "                row_dict[\"type\"]= 1\n",
    "                row_dict[\"user\"] = name\n",
    "                row_list.append(row_dict)              \n",
    "    except:\n",
    "        pass\n",
    "left_1500_df = pd.DataFrame(row_list)"
   ]
  },
  {
   "cell_type": "code",
   "execution_count": null,
   "id": "411609ef",
   "metadata": {},
   "outputs": [],
   "source": [
    "left_1500_df"
   ]
  },
  {
   "cell_type": "code",
   "execution_count": null,
   "id": "8dfb078d",
   "metadata": {},
   "outputs": [],
   "source": [
    "right_1500_df"
   ]
  },
  {
   "cell_type": "code",
   "execution_count": null,
   "id": "9b6cb77a",
   "metadata": {},
   "outputs": [],
   "source": [
    "right_1500_df.to_csv(\"right_1500_user_comments.csv\")\n",
    "left_1500_df.to_csv(\"left_1500_user_comments.csv\")"
   ]
  },
  {
   "cell_type": "code",
   "execution_count": null,
   "id": "e680d306",
   "metadata": {},
   "outputs": [],
   "source": [
    "comment_list_right_1500 = []\n",
    "for i in range(1,906):\n",
    "        tempdict = {}\n",
    "        tempdf = right_1500_df[right_1500_df['user']== i]\n",
    "        if tempdf.empty:\n",
    "            continue\n",
    "        loc = tempdf.loc[tempdf['score'].idxmax()]\n",
    "        tempdict[\"comment\"] = loc.comment\n",
    "        tempdict[\"score\"] = loc.score\n",
    "        comment_list_right_1500.append(tempdict)"
   ]
  },
  {
   "cell_type": "code",
   "execution_count": null,
   "id": "e5f14e35",
   "metadata": {},
   "outputs": [],
   "source": [
    "right_comment_1500_highest_score = pd.DataFrame(comment_list_right_1500)"
   ]
  },
  {
   "cell_type": "code",
   "execution_count": null,
   "id": "0bd36d31",
   "metadata": {},
   "outputs": [],
   "source": [
    "right_comment_1500_highest_score"
   ]
  },
  {
   "cell_type": "code",
   "execution_count": null,
   "id": "eca5d7e6",
   "metadata": {},
   "outputs": [],
   "source": [
    "comment_list_left_1500 = []\n",
    "for name in left_users_1500.user:\n",
    "        tempdict = {}\n",
    "        tempdf = left_1500_df[left_1500_df['user']==name]\n",
    "        if tempdf.empty:\n",
    "            continue\n",
    "        loc = tempdf.loc[tempdf['score'].idxmax()]\n",
    "        tempdict[\"comment\"] = loc.comment\n",
    "        tempdict[\"score\"] = loc.score\n",
    "        comment_list_left_1500.append(tempdict)"
   ]
  },
  {
   "cell_type": "code",
   "execution_count": null,
   "id": "f6f650c0",
   "metadata": {},
   "outputs": [],
   "source": [
    "left_comment_1500_highest_score = pd.DataFrame(comment_list_left_1500)"
   ]
  },
  {
   "cell_type": "code",
   "execution_count": null,
   "id": "d73ed6f8",
   "metadata": {},
   "outputs": [],
   "source": [
    "left_comment_1500_highest_score"
   ]
  },
  {
   "cell_type": "code",
   "execution_count": null,
   "id": "bcc36ca0",
   "metadata": {},
   "outputs": [],
   "source": []
  },
  {
   "cell_type": "code",
   "execution_count": null,
   "id": "4bb9ab8f",
   "metadata": {},
   "outputs": [],
   "source": [
    "right_comment_1500_highest_score.to_csv(\"right_comment_1500_highest_score.csv\")"
   ]
  },
  {
   "cell_type": "code",
   "execution_count": null,
   "id": "8bf773a8",
   "metadata": {},
   "outputs": [],
   "source": [
    "left_comment_1500_highest_score.to_csv(\"left_comment_1500_highest_score.csv\")"
   ]
  },
  {
   "cell_type": "code",
   "execution_count": null,
   "id": "d5eabdeb",
   "metadata": {},
   "outputs": [],
   "source": [
    "right_1500_df"
   ]
  },
  {
   "cell_type": "code",
   "execution_count": null,
   "id": "2aa011a5",
   "metadata": {},
   "outputs": [],
   "source": [
    "comment_list_right_1500_2 = []\n",
    "for i in range(1,906):\n",
    "        tempdict = {}\n",
    "        tempdf = right_1500_df[right_1500_df['user']== i]\n",
    "        tempdf2 = tempdf.copy()\n",
    "        if tempdf2.empty:\n",
    "            continue\n",
    "        loc = tempdf2.loc[tempdf2['score'].idxmax()]\n",
    "        tempdf3 = tempdf2[tempdf2['comment'] != loc.comment]\n",
    "        if tempdf3.empty:\n",
    "            continue\n",
    "        loc1 = tempdf3.loc[tempdf3['score'].idxmax()]\n",
    "        tempdict[\"comment\"] = loc1.comment\n",
    "        tempdict[\"score\"] = loc1.score\n",
    "        comment_list_right_1500_2.append(tempdict)"
   ]
  },
  {
   "cell_type": "code",
   "execution_count": null,
   "id": "d9889512",
   "metadata": {},
   "outputs": [],
   "source": [
    "right_comment_1500_2nd_highest_score = pd.DataFrame(comment_list_right_1500_2)"
   ]
  },
  {
   "cell_type": "code",
   "execution_count": null,
   "id": "6a6a92c4",
   "metadata": {},
   "outputs": [],
   "source": [
    "right_comment_1500_2nd_highest_score"
   ]
  },
  {
   "cell_type": "code",
   "execution_count": null,
   "id": "8e2f9141",
   "metadata": {},
   "outputs": [],
   "source": [
    "comment_list_left_1500_2 = []\n",
    "for name in left_users_1500.user:\n",
    "        tempdict = {}\n",
    "        tempdf = left_1500_df[left_1500_df['user']== name]\n",
    "        tempdf2 = tempdf.copy()\n",
    "        if tempdf2.empty:\n",
    "            continue\n",
    "        loc = tempdf2.loc[tempdf2['score'].idxmax()]\n",
    "        tempdf3 = tempdf2[tempdf2['comment'] != loc.comment]\n",
    "        if tempdf3.empty:\n",
    "            continue\n",
    "        loc1 = tempdf3.loc[tempdf3['score'].idxmax()]\n",
    "        tempdict[\"comment\"] = loc1.comment\n",
    "        tempdict[\"score\"] = loc1.score\n",
    "        comment_list_left_1500_2.append(tempdict)"
   ]
  },
  {
   "cell_type": "code",
   "execution_count": null,
   "id": "5193dc6d",
   "metadata": {},
   "outputs": [],
   "source": [
    "left_comment_1500_2nd_highest_score = pd.DataFrame(comment_list_left_1500_2)"
   ]
  },
  {
   "cell_type": "code",
   "execution_count": null,
   "id": "4973baaa",
   "metadata": {},
   "outputs": [],
   "source": [
    "left_comment_1500_2nd_highest_score"
   ]
  },
  {
   "cell_type": "code",
   "execution_count": null,
   "id": "aa5ce18e",
   "metadata": {},
   "outputs": [],
   "source": [
    "right_comment_1500_2nd_highest_score.to_csv(\"right_comment_1500_2nd_highest_score.csv\")"
   ]
  },
  {
   "cell_type": "code",
   "execution_count": null,
   "id": "c22f5c6c",
   "metadata": {},
   "outputs": [],
   "source": [
    "left_comment_1500_2nd_highest_score.to_csv(\"left_comment_1500_2nd_highest_score.csv\")"
   ]
  },
  {
   "cell_type": "code",
   "execution_count": null,
   "id": "4d3f7ce9",
   "metadata": {},
   "outputs": [],
   "source": [
    "import pandas as pd\n",
    "\n",
    "right_comment_highest_score = pd.read_csv(\"right_comment_1500_highest_score.csv\")\n",
    "left_comment_highest_score = pd.read_csv(\"left_comment_1500_highest_score.csv\")\n",
    "right_comment_2nd_highest_score = pd.read_csv(\"right_comment_1500_2nd_highest_score.csv\")\n",
    "left_comment_2nd_highest_score = pd.read_csv(\"left_comment_1500_2nd_highest_score.csv\")"
   ]
  },
  {
   "cell_type": "code",
   "execution_count": null,
   "id": "59c33812",
   "metadata": {},
   "outputs": [],
   "source": [
    "for score in right_comment_highest_score[\"score\"]:\n",
    "    print(score)"
   ]
  },
  {
   "cell_type": "code",
   "execution_count": null,
   "id": "d33e2ce2",
   "metadata": {},
   "outputs": [],
   "source": [
    "left_comment_highest_score"
   ]
  },
  {
   "cell_type": "code",
   "execution_count": null,
   "id": "d94b6942",
   "metadata": {},
   "outputs": [],
   "source": [
    "right_comment_2nd_highest_score"
   ]
  },
  {
   "cell_type": "code",
   "execution_count": null,
   "id": "961b300e",
   "metadata": {},
   "outputs": [],
   "source": [
    "left_comment_2nd_highest_score"
   ]
  },
  {
   "cell_type": "code",
   "execution_count": null,
   "id": "212f94b6",
   "metadata": {},
   "outputs": [],
   "source": [
    "right_set_meme = right_comment_highest_score[\"comment\"].append(right_comment_2nd_highest_score[\"comment\"])"
   ]
  },
  {
   "cell_type": "code",
   "execution_count": null,
   "id": "7c3001c7",
   "metadata": {},
   "outputs": [],
   "source": [
    "right_set_meme.to_csv(\"Right_meme_set_1050.csv\")"
   ]
  },
  {
   "cell_type": "code",
   "execution_count": null,
   "id": "3b1b2591",
   "metadata": {},
   "outputs": [],
   "source": [
    "left_set_meme = left_comment_highest_score[\"comment\"].append(left_comment_2nd_highest_score[\"comment\"])"
   ]
  },
  {
   "cell_type": "code",
   "execution_count": null,
   "id": "58ee9835",
   "metadata": {},
   "outputs": [],
   "source": [
    "left_set_meme.to_csv(\"Left_meme_set_724.csv\")"
   ]
  },
  {
   "cell_type": "code",
   "execution_count": null,
   "id": "893f96d0",
   "metadata": {},
   "outputs": [],
   "source": [
    "left_set_meme"
   ]
  },
  {
   "cell_type": "code",
   "execution_count": null,
   "id": "36727d62",
   "metadata": {},
   "outputs": [],
   "source": [
    "df = pd.read_csv(\"left_1500_user_comments.csv\")"
   ]
  },
  {
   "cell_type": "code",
   "execution_count": null,
   "id": "9aa93d07",
   "metadata": {},
   "outputs": [],
   "source": [
    "sorteddf = df.sort_values(by='score',ascending=False)"
   ]
  },
  {
   "cell_type": "code",
   "execution_count": null,
   "id": "344fbbe3",
   "metadata": {},
   "outputs": [],
   "source": [
    "test = pd.read_csv(\"Left_meme_set_724.csv\")"
   ]
  },
  {
   "cell_type": "code",
   "execution_count": null,
   "id": "9fc957d2",
   "metadata": {},
   "outputs": [],
   "source": [
    "count = 1000\n",
    "my_list = []\n",
    "for comment in sorteddf[\"comment\"]:\n",
    "    if comment not in test[\"comment\"]:\n",
    "        if comment not in my_list:\n",
    "            my_list.append(comment)"
   ]
  },
  {
   "cell_type": "code",
   "execution_count": null,
   "id": "00c2fa27",
   "metadata": {},
   "outputs": [],
   "source": [
    "my_list"
   ]
  },
  {
   "cell_type": "code",
   "execution_count": null,
   "id": "f3c74b4d",
   "metadata": {},
   "outputs": [],
   "source": []
  },
  {
   "cell_type": "code",
   "execution_count": null,
   "id": "ada8b24a",
   "metadata": {},
   "outputs": [],
   "source": []
  }
 ],
 "metadata": {
  "kernelspec": {
   "display_name": "Python 3",
   "language": "python",
   "name": "python3"
  },
  "language_info": {
   "codemirror_mode": {
    "name": "ipython",
    "version": 3
   },
   "file_extension": ".py",
   "mimetype": "text/x-python",
   "name": "python",
   "nbconvert_exporter": "python",
   "pygments_lexer": "ipython3",
   "version": "3.8.8"
  }
 },
 "nbformat": 4,
 "nbformat_minor": 5
}
