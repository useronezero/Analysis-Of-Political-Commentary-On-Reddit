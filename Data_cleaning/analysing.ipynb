{
 "cells": [
  {
   "cell_type": "code",
   "execution_count": 66,
   "id": "ac97343a",
   "metadata": {},
   "outputs": [],
   "source": [
    "import pandas as pd"
   ]
  },
  {
   "cell_type": "code",
   "execution_count": 87,
   "id": "4aeadf11",
   "metadata": {},
   "outputs": [],
   "source": [
    "left1 = pd.read_csv(\"final-500-left-comments-string.csv\")"
   ]
  },
  {
   "cell_type": "code",
   "execution_count": 88,
   "id": "4d146a0d",
   "metadata": {},
   "outputs": [],
   "source": [
    "left2 = pd.read_csv(\"final-500-left-meme-comments-string.csv\")"
   ]
  },
  {
   "cell_type": "code",
   "execution_count": 89,
   "id": "cc8c48ec",
   "metadata": {},
   "outputs": [],
   "source": [
    "right1 = pd.read_csv(\"final-500-right-comments-string.csv\")"
   ]
  },
  {
   "cell_type": "code",
   "execution_count": 90,
   "id": "9c50decf",
   "metadata": {},
   "outputs": [],
   "source": [
    "right2 = pd.read_csv(\"final-500-right-meme-comments-string.csv\")"
   ]
  },
  {
   "cell_type": "code",
   "execution_count": 91,
   "id": "414f7a6a",
   "metadata": {},
   "outputs": [],
   "source": [
    "right1[\"label\"] = \"right\"\n",
    "left1[\"label\"] = \"left\"\n",
    "right2[\"label\"] = 'right'\n",
    "left2[\"label\"] ='left'\n",
    "df_comb = pd.concat([right1,left1,right2,left2])"
   ]
  },
  {
   "cell_type": "code",
   "execution_count": 93,
   "id": "5ed28e0c",
   "metadata": {},
   "outputs": [
    {
     "data": {
      "text/plain": [
       "\"\\nfrom collections import Counter\\ncnt = Counter()\\nfor text in df_comb['comment'].values:\\n    for word in text.split():\\n        cnt[word] += 1\\n        \\ncnt.most_common(150) \""
      ]
     },
     "execution_count": 93,
     "metadata": {},
     "output_type": "execute_result"
    }
   ],
   "source": [
    "'''\n",
    "from collections import Counter\n",
    "cnt = Counter()\n",
    "for text in df_comb['comment'].values:\n",
    "    for word in text.split():\n",
    "        cnt[word] += 1\n",
    "        \n",
    "cnt.most_common(150) '''"
   ]
  },
  {
   "cell_type": "code",
   "execution_count": 94,
   "id": "f9994eca",
   "metadata": {},
   "outputs": [],
   "source": [
    "all_len = []\n",
    "for text in df_comb['comment'].values:\n",
    "    all_len.append(len(text.split()))"
   ]
  },
  {
   "cell_type": "code",
   "execution_count": 95,
   "id": "13e3f0f7",
   "metadata": {},
   "outputs": [],
   "source": [
    "avg = sum(all_len)/len(all_len)"
   ]
  },
  {
   "cell_type": "code",
   "execution_count": 96,
   "id": "7225c6ea",
   "metadata": {},
   "outputs": [
    {
     "data": {
      "text/plain": [
       "12.6625"
      ]
     },
     "execution_count": 96,
     "metadata": {},
     "output_type": "execute_result"
    }
   ],
   "source": [
    "avg"
   ]
  },
  {
   "cell_type": "code",
   "execution_count": 97,
   "id": "0ab1f0b3",
   "metadata": {},
   "outputs": [
    {
     "data": {
      "text/plain": [
       "(array([158., 159., 207., 176., 152., 141., 110., 115.,  85.,  61.,  72.,\n",
       "         51.,  48.,  48.,  43.,  42.,  63.,  41.,  31.,  44.,  33.,  29.,\n",
       "         22.,  28.,  41.]),\n",
       " array([ 5,  6,  7,  8,  9, 10, 11, 12, 13, 14, 15, 16, 17, 18, 19, 20, 21,\n",
       "        22, 23, 24, 25, 26, 27, 28, 29, 30]),\n",
       " <BarContainer object of 25 artists>)"
      ]
     },
     "execution_count": 97,
     "metadata": {},
     "output_type": "execute_result"
    },
    {
     "data": {
      "image/png": "[encoded data removed]",
      "text/plain": [
       "<Figure size 432x288 with 1 Axes>"
      ]
     },
     "metadata": {
      "needs_background": "light"
     },
     "output_type": "display_data"
    }
   ],
   "source": [
    "import matplotlib.pyplot as plt\n",
    "import numpy as np\n",
    "all_len = np.array(all_len)\n",
    "plt.hist(all_len, bins=np.arange(all_len .min(), all_len .max()+1))"
   ]
  },
  {
   "cell_type": "code",
   "execution_count": null,
   "id": "cb6db81e",
   "metadata": {},
   "outputs": [],
   "source": [
    "[('the', 9393),\n",
    " ('to', 6876),\n",
    " ('and', 4866),\n",
    " ('a', 4722),\n",
    " ('of', 4508),\n",
    " ('is', 3079),\n",
    " ('in', 2890),\n",
    " ('that', 2805),\n",
    " ('I', 2288),\n",
    " ('for', 2155),\n",
    " ('be', 1670),\n",
    " ('they', 1640),\n",
    " ('are', 1528),\n",
    " ('it', 1499),\n",
    " ('this', 1457),\n",
    " ('on', 1351),\n",
    " ('have', 1295),\n",
    " ('with', 1251),\n",
    " ('he', 1197),\n",
    " ('not', 1183),\n",
    " ('you', 1101),\n",
    " ('was', 1093),\n",
    " ('Trump', 1038),\n",
    " ('his', 1008),\n",
    " ('as', 976),\n",
    " ('The', 958),\n",
    " ('their', 938),\n",
    " ('will', 936),\n",
    " ('people', 885),\n",
    " ('about', 838),\n",
    " ('or', 836),\n",
    " ('but', 803),\n",
    " ('we', 795),\n",
    " ('all', 792),\n",
    " ('like', 732),\n",
    " ('from', 727),\n",
    " ('just', 725),\n",
    " ('who', 713),\n",
    " ('if', 681),\n",
    " ('by', 678),\n",
    " ('at', 666),\n",
    " ('would', 665),\n",
    " ('what', 661),\n",
    " ('an', 647),\n",
    " ('has', 646),\n",
    " ('so', 602),\n",
    " ('get', 591),\n",
    " ('can', 582),\n",
    " ('do', 575),\n",
    " ('out', 557),\n",
    " ('them', 555),\n",
    " ('more', 539),\n",
    " ('-', 508),\n",
    " ('when', 484),\n",
    " ('They', 477),\n",
    " ('This', 463),\n",
    " ('no', 458),\n",
    " ('up', 457),\n",
    " ('because', 448),\n",
    " ('your', 439),\n",
    " ('been', 431),\n",
    " ('should', 431),\n",
    " ('one', 423),\n",
    " ('how', 419),\n",
    " ('think', 412),\n",
    " ('going', 412),\n",
    " ('him', 394),\n",
    " ('know', 390),\n",
    " (\"don't\", 389),\n",
    " ('He', 389),\n",
    " ('Republicans', 386),\n",
    " ('any', 377),\n",
    " ('were', 368),\n",
    " ('If', 366),\n",
    " ('these', 364),\n",
    " ('only', 364),\n",
    " ('my', 360),\n",
    " ('even', 349),\n",
    " ('need', 347),\n",
    " ('our', 343),\n",
    " ('want', 337),\n",
    " ('some', 334),\n",
    " ('there', 326),\n",
    " ('had', 326),\n",
    " ('than', 323),\n",
    " (\"It's\", 321),\n",
    " ('And', 316),\n",
    " ('It', 312),\n",
    " ('Republican', 304),\n",
    " ('it.', 301),\n",
    " ('vote', 293),\n",
    " (\"I'm\", 292),\n",
    " ('other', 290),\n",
    " ('see', 282),\n",
    " ('right', 279),\n",
    " ('being', 278),\n",
    " ('really', 277),\n",
    " ('We', 275),\n",
    " ('me', 272),\n",
    " ('time', 272),\n",
    " ('then', 271),\n",
    " ('Biden', 268),\n",
    " ('still', 266),\n",
    " ('make', 266),\n",
    " (\"it's\", 259),\n",
    " ('GOP', 255),\n",
    " ('never', 255),\n",
    " ('over', 251),\n",
    " ('could', 246),\n",
    " ('after', 244),\n",
    " ('those', 243),\n",
    " ('into', 242),\n",
    " ('against', 237),\n",
    " ('now', 235),\n",
    " ('way', 228),\n",
    " ('her', 227),\n",
    " ('But', 226),\n",
    " ('say', 222),\n",
    " ('said', 222),\n",
    " ('election', 221),\n",
    " ('much', 219),\n",
    " ('President', 209),\n",
    " ('good', 209),\n",
    " ('go', 207),\n",
    " ('take', 207),\n",
    " ('every', 206),\n",
    " ('You', 203),\n",
    " ('actually', 203),\n",
    " ('why', 201),\n",
    " ('many', 200),\n",
    " ('voting', 199),\n",
    " ('which', 194),\n",
    " ('did', 193),\n",
    " ('party', 192),\n",
    " ('very', 192),\n",
    " ('most', 192),\n",
    " ('back', 190),\n",
    " ('she', 186),\n",
    " ('What', 185),\n",
    " ('don’t', 184),\n",
    " ('also', 183),\n",
    " ('believe', 182),\n",
    " ('Democrats', 182),\n",
    " ('So', 181),\n",
    " ('years', 174),\n",
    " ('same', 174),\n",
    " ('state', 169),\n",
    " ('keep', 166),\n",
    " ('trying', 165),\n",
    " ('thing', 164)]\n",
    "In [48]:\n",
    "\n"
   ]
  }
 ],
 "metadata": {
  "kernelspec": {
   "display_name": "Python 3",
   "language": "python",
   "name": "python3"
  },
  "language_info": {
   "codemirror_mode": {
    "name": "ipython",
    "version": 3
   },
   "file_extension": ".py",
   "mimetype": "text/x-python",
   "name": "python",
   "nbconvert_exporter": "python",
   "pygments_lexer": "ipython3",
   "version": "3.8.8"
  }
 },
 "nbformat": 4,
 "nbformat_minor": 5
}
